{
 "cells": [
  {
   "cell_type": "markdown",
   "id": "f7acee0e-e5ab-4940-9e0d-cb169291f70c",
   "metadata": {},
   "source": [
    "## Fuzzy Inference System"
   ]
  },
  {
   "cell_type": "markdown",
   "id": "d1389104-9bbb-4594-b016-6dfe824e7161",
   "metadata": {},
   "source": [
    "<img src=\"images/image-1.png\"/>"
   ]
  },
  {
   "cell_type": "markdown",
   "id": "9f8a6033-7473-4933-b715-7aee82b9be41",
   "metadata": {},
   "source": [
    "<img src=\"images/image-2.png\"/>"
   ]
  },
  {
   "cell_type": "markdown",
   "id": "5e8b53d1-6db5-42f3-88de-1f9023299f3e",
   "metadata": {},
   "source": [
    "<img src=\"images/image-3.png\"/>"
   ]
  },
  {
   "cell_type": "markdown",
   "id": "594adcd4-afe7-4dec-a43f-9e86f67d0acf",
   "metadata": {},
   "source": [
    "<img src=\"images/image-4.png\"/>"
   ]
  },
  {
   "cell_type": "markdown",
   "id": "0c32d085-61a8-44c7-b8c6-e48a3e2dcb6d",
   "metadata": {},
   "source": [
    "<img src=\"images/image-5.png\"/>"
   ]
  },
  {
   "cell_type": "markdown",
   "id": "347c46c6-bb25-4537-a82b-2d855f00e3fb",
   "metadata": {},
   "source": [
    "## Buat Grafik dari masing2 variabel\n",
    "\n",
    "Buat grafik seperti contoh di bawah ini menggunakan class dan function yang sudah dibuat sebelumnya"
   ]
  },
  {
   "cell_type": "markdown",
   "id": "2489673c-f4b9-4abc-a75f-273091afdb38",
   "metadata": {},
   "source": [
    "### https://github.com/agungperdananto/2025_kecerdasan_buatan"
   ]
  },
  {
   "cell_type": "markdown",
   "id": "0895bef1",
   "metadata": {},
   "source": []
  },
  {
   "cell_type": "code",
   "execution_count": 36,
   "id": "38d14999-b10b-4a54-88a1-0bbcec495a15",
   "metadata": {},
   "outputs": [
    {
     "name": "stdout",
     "output_type": "stream",
     "text": [
      "Permintaan turun=0.75, naik=0.25\n",
      "Persediaan sedikit=0.4, banyak=0.6\n"
     ]
    }
   ],
   "source": [
    "def decrease(x, min_value, max_value):\n",
    "    result = (max_value - x) / (max_value - min_value)\n",
    "    return result\n",
    "\n",
    "def increase(x, min_value, max_value):\n",
    "    result = (x - min_value) / (max_value - min_value)\n",
    "    return result\n",
    "\n",
    "# Permintaan\n",
    "x = 4000\n",
    "max_value = 5000\n",
    "min_value = 1000\n",
    "\n",
    "turun = decrease(x, max_value, min_value)\n",
    "naik = increase(x, max_value, min_value)\n",
    "\n",
    "print(f\"Permintaan {turun=}, {naik=}\")\n",
    "\n",
    "# Persediaan\n",
    "x = 300\n",
    "max_value = 600\n",
    "min_value = 100\n",
    "\n",
    "sedikit = decrease(x, max_value, min_value)\n",
    "banyak = increase(x, max_value, min_value)\n",
    "\n",
    "print(f\"Persediaan {sedikit=}, {banyak=}\")"
   ]
  },
  {
   "cell_type": "code",
   "execution_count": 37,
   "id": "4c3ef093",
   "metadata": {},
   "outputs": [
    {
     "data": {
      "text/plain": [
       "0"
      ]
     },
     "execution_count": 37,
     "metadata": {},
     "output_type": "execute_result"
    }
   ],
   "source": [
    "class Permintaan():\n",
    "    range = [1000, 5000]\n",
    "\n",
    "    def __init__(self):\n",
    "        self.min_value = self.range[0]\n",
    "        self.max_value = self.range[1]\n",
    "        self.x = 4000\n",
    "\n",
    "    def turun(self):\n",
    "        if self.x < self.min_value:\n",
    "            return 1\n",
    "        if self.x > self.max_value:\n",
    "            return 0\n",
    "        result = decrease(self.x, self.min_value, self.max_value)\n",
    "        return result\n",
    "\n",
    "    def naik(self):\n",
    "        if self.x < self.min_value:\n",
    "            return 0\n",
    "        if self.x > self.max_value:\n",
    "            return 1\n",
    "        result = increase(self.x, self.min_value, self.max_value)\n",
    "        return result\n",
    "\n",
    "\n",
    "class Persediaan():\n",
    "    range = [100, 600]\n",
    "\n",
    "    def __init__(self):\n",
    "        self.min_value = self.range[0]\n",
    "        self.max_value = self.range[1]\n",
    "        self.x = 300\n",
    "\n",
    "    def sedikit(self):\n",
    "        if self.x < self.min_value:\n",
    "            return 1\n",
    "        if self.x > self.max_value:\n",
    "            return 0\n",
    "        result = decrease(self.x, self.min_value, self.max_value)\n",
    "        return result\n",
    "\n",
    "    def banyak(self):\n",
    "        if self.x < self.min_value:\n",
    "            return 0\n",
    "        if self.x > self.max_value:\n",
    "            return 1\n",
    "        result = increase(self.x, self.min_value, self.max_value)\n",
    "        return result\n",
    "\n",
    "\n",
    "pmt = Permintaan()\n",
    "\n",
    "psd = Persediaan()\n",
    "\n",
    "pmt.x = 900\n",
    "pmt.naik()\n"
   ]
  },
  {
   "cell_type": "code",
   "execution_count": null,
   "id": "feeece1f",
   "metadata": {},
   "outputs": [],
   "source": [
    "class Produksi():\n",
    "    range = [2000, 7000]\n",
    "\n",
    "    def berkurang(self, fuzzy_value):\n",
    "        pass\n",
    "    def bertambah(self, fuzzy_value):\n",
    "        pass\n",
    "\n",
    "    def rule(self):\n",
    "        # Rule 1\n",
    "        #     IF permintaan TURUN and persediaan BANYAK THEN produksi barang BERKURANG\n",
    "        # Rule 2\n",
    "        #     IF permintaan TURUN and persediaan SEDIKIT THEN produksi barang BERKURANG\n",
    "        # Rule 3\n",
    "        #     IF permintaan NAIK and persediaan BANYAK THEN produksi barang BERTAMBAH\n",
    "        # Rule 4\n",
    "        #     IF permintaan NAIK and persediaan SEDIKIT THEN produksi barang BERTAMBAH\n",
    "        pass\n",
    "\n",
    "    def defuzifikasi(self):\n",
    "        pass"
   ]
  }
 ],
 "metadata": {
  "kernelspec": {
   "display_name": "base",
   "language": "python",
   "name": "python3"
  },
  "language_info": {
   "codemirror_mode": {
    "name": "ipython",
    "version": 3
   },
   "file_extension": ".py",
   "mimetype": "text/x-python",
   "name": "python",
   "nbconvert_exporter": "python",
   "pygments_lexer": "ipython3",
   "version": "3.11.7"
  }
 },
 "nbformat": 4,
 "nbformat_minor": 5
}
